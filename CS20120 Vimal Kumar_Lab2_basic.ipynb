{
 "cells": [
  {
   "cell_type": "code",
   "execution_count": 179,
   "metadata": {
    "scrolled": true
   },
   "outputs": [
    {
     "name": "stdout",
     "output_type": "stream",
     "text": [
      " What are data types in Python\n"
     ]
    }
   ],
   "source": [
    "print(\" What are data types in Python\")"
   ]
  },
  {
   "cell_type": "code",
   "execution_count": 180,
   "metadata": {},
   "outputs": [
    {
     "name": "stdout",
     "output_type": "stream",
     "text": [
      "{'Logical': ['bool'], 'Numeric': ['int', 'float'], 'Text': ['str']}\n"
     ]
    }
   ],
   "source": [
    "Data_type = {\n",
    "    'Logical': ['bool'],\n",
    "'Numeric': ['int' , 'float'],\n",
    "'Text': ['str']\n",
    "}\n",
    "print (Data_type)"
   ]
  },
  {
   "cell_type": "code",
   "execution_count": 181,
   "metadata": {},
   "outputs": [
    {
     "name": "stdout",
     "output_type": "stream",
     "text": [
      " What are data structures in Python\n"
     ]
    }
   ],
   "source": [
    "print(\" What are data structures in Python\")"
   ]
  },
  {
   "cell_type": "code",
   "execution_count": 182,
   "metadata": {},
   "outputs": [
    {
     "name": "stdout",
     "output_type": "stream",
     "text": [
      "['list', 'tuple', 'dictionary', 'set']\n"
     ]
    }
   ],
   "source": [
    "\n",
    "Data_Structure = ['list', 'tuple', 'dictionary' ,'set']\n",
    "\n",
    "print(Data_Structure)"
   ]
  },
  {
   "cell_type": "code",
   "execution_count": 183,
   "metadata": {},
   "outputs": [
    {
     "name": "stdout",
     "output_type": "stream",
     "text": [
      "[1 2 3]\n"
     ]
    }
   ],
   "source": [
    "################# Excercise 1############################\n",
    "# create a vector as array\n",
    "from numpy import array\n",
    "v = array([1, 2, 3])\n",
    "print(v)"
   ]
  },
  {
   "cell_type": "code",
   "execution_count": 184,
   "metadata": {},
   "outputs": [
    {
     "name": "stdout",
     "output_type": "stream",
     "text": [
      "('vimal', 1, 2)\n"
     ]
    }
   ],
   "source": [
    "# Creating List\n",
    "l = (\"vimal\" , 1,2)\n",
    "print (l)"
   ]
  },
  {
   "cell_type": "code",
   "execution_count": 185,
   "metadata": {},
   "outputs": [
    {
     "name": "stdout",
     "output_type": "stream",
     "text": [
      "<class 'numpy.ndarray'>\n",
      "(3,)\n",
      "[5 1 2]\n"
     ]
    }
   ],
   "source": [
    "import numpy as np\n",
    "# New Vector\n",
    "a = np.array([0, 1, 2])\n",
    "print(type(a))\n",
    "#Shape of vector\n",
    "print(a.shape)\n",
    "##Print an element\n",
    "a[0] = 5\n",
    "print(a)"
   ]
  },
  {
   "cell_type": "code",
   "execution_count": 186,
   "metadata": {},
   "outputs": [
    {
     "name": "stdout",
     "output_type": "stream",
     "text": [
      "3\n"
     ]
    }
   ],
   "source": [
    "#Size of vector\n",
    "print(a.size)"
   ]
  },
  {
   "cell_type": "code",
   "execution_count": 187,
   "metadata": {},
   "outputs": [
    {
     "name": "stdout",
     "output_type": "stream",
     "text": [
      "('vimal', 1, 2, 'kumar', 4, 5)\n"
     ]
    }
   ],
   "source": [
    "# List addition (concatenation)\n",
    "l2 = (\"kumar\" , 4 ,5)\n",
    "print(l + l2)"
   ]
  },
  {
   "cell_type": "code",
   "execution_count": 188,
   "metadata": {},
   "outputs": [
    {
     "name": "stdout",
     "output_type": "stream",
     "text": [
      "[8 5 7]\n"
     ]
    }
   ],
   "source": [
    "# Vector Addition\n",
    "a2 = np.array([3,4,5])\n",
    "print (a + a2)"
   ]
  },
  {
   "cell_type": "code",
   "execution_count": 189,
   "metadata": {},
   "outputs": [
    {
     "name": "stdout",
     "output_type": "stream",
     "text": [
      "[[ 8 10]\n",
      " [12 14]\n",
      " [16 18]]\n",
      "[[ 8 10]\n",
      " [12 14]\n",
      " [16 18]]\n",
      "[[-6 -6]\n",
      " [-6 -6]\n",
      " [-6 -6]]\n",
      "[[-6 -6]\n",
      " [-6 -6]\n",
      " [-6 -6]]\n"
     ]
    }
   ],
   "source": [
    "################# Excercise 2############################\n",
    "# Matrice addition\n",
    "x=np.array([[1,2],[3,4],[5,6]])\n",
    "y=np.array([[7,8],[9,10],[11,12]])\n",
    "# Elementwise sum; both produce the array\n",
    "print(x+y)\n",
    "print(np.add(x, y)) #Same result of +\n",
    "# Elementwise difference; both produce the array\n",
    "print(x-y)\n",
    "print(np.subtract(x, y)) #Same result of -\n"
   ]
  },
  {
   "cell_type": "code",
   "execution_count": 222,
   "metadata": {},
   "outputs": [
    {
     "name": "stdout",
     "output_type": "stream",
     "text": [
      "[[ 63 320  83]\n",
      " [ 77 484 102]\n",
      " [ 84 248 117]]\n"
     ]
    }
   ],
   "source": [
    "#Multiplication\n",
    "mat1 = ([1, 6, 5],[3 ,4, 8],[2, 12, 3]) \n",
    "mat2 = ([3, 4, 6],[5, 6, 7],[6,56, 7]) \n",
    "  \n",
    "\n",
    "res = np.dot(mat1,mat2) \n",
    "print(res)"
   ]
  },
  {
   "cell_type": "code",
   "execution_count": 191,
   "metadata": {},
   "outputs": [
    {
     "name": "stdout",
     "output_type": "stream",
     "text": [
      "[[1 3 5]\n",
      " [2 4 6]]\n"
     ]
    }
   ],
   "source": [
    "#Transpose of x\n",
    "print(x.T)"
   ]
  },
  {
   "cell_type": "code",
   "execution_count": 217,
   "metadata": {},
   "outputs": [
    {
     "name": "stdout",
     "output_type": "stream",
     "text": [
      "The Matrix A \n",
      " [[1 2]\n",
      " [3 4]]\n",
      "The dimension of A \n",
      "  (2, 2)\n",
      "Inverse is \n",
      "  [[-2.   1. ]\n",
      " [ 1.5 -0.5]]\n"
     ]
    }
   ],
   "source": [
    "A = np.array([[1, 2],[3,4]])\n",
    "print(\"The Matrix A \\n\",A)\n",
    "print(\"The dimension of A \\n \",A.shape)\n",
    "Inverse = np.linalg.inv(A)\n",
    "\n",
    "print (\"Inverse is \\n \",Inverse)\n"
   ]
  },
  {
   "cell_type": "code",
   "execution_count": 193,
   "metadata": {},
   "outputs": [
    {
     "name": "stdout",
     "output_type": "stream",
     "text": [
      "Matrices are equal\n"
     ]
    }
   ],
   "source": [
    "#####################Excercise 3.1############################\n",
    "# Identical Matirix\n",
    "\n",
    "a = [     \n",
    "        [1, 2, 3],  \n",
    "        [8, 4, 6],  \n",
    "        [4, 5, 7]  \n",
    "    ];  \n",
    "   \n",
    "#Initialize matrix b  \n",
    "b = [     \n",
    "        [1, 2, 3],  \n",
    "        [8, 4, 6],  \n",
    "        [4, 5, 7]  \n",
    "    ];  \n",
    "   \n",
    "flag = True;  \n",
    "   \n",
    "#Calculates number of rows and columns present in first matrix  \n",
    "row1 = len(a);  \n",
    "col1 = len(a[0]);  \n",
    "   \n",
    "#Calculates number of rows and columns present in second matrix  \n",
    "row2 = len(b);  \n",
    "col2 = len(b[0]);  \n",
    "   \n",
    "#Checks if dimensions of both the matrices are equal  \n",
    "if(row1 != row2 or col1 != col2):  \n",
    "    print(\"Matrices are not equal\");  \n",
    "   \n",
    "else:  \n",
    "    for i in range(0, row1):  \n",
    "        for j in range(0, col1):  \n",
    "            if(a[i][j] != b[i][j]):  \n",
    "                flag = False;  \n",
    "                break;  \n",
    "      \n",
    "    if(flag):  \n",
    "        print(\"Matrices are equal\");  \n",
    "    else:  \n",
    "        print(\"Matrices are not equal\");  \n"
   ]
  },
  {
   "cell_type": "code",
   "execution_count": 194,
   "metadata": {},
   "outputs": [
    {
     "name": "stdout",
     "output_type": "stream",
     "text": [
      "Matrices are mirrored\n"
     ]
    }
   ],
   "source": [
    "#####################Excercise 3.2############################\n",
    "# Mirror Matrix\n",
    "\n",
    "a = [     \n",
    "        [1, 2, 3],  \n",
    "        [8, 4, 6],  \n",
    "        [4, 5, 7]  \n",
    "    ];  \n",
    "   \n",
    "#Initialize matrix b  \n",
    "b = [     \n",
    "        [3, 2, 1],  \n",
    "        [6, 4, 8],  \n",
    "        [7, 5, 4]  \n",
    "    ];  \n",
    "   \n",
    "flag = True;  \n",
    "   \n",
    "#Calculates number of rows and columns present in first matrix  \n",
    "row1 = len(a);  \n",
    "col1 = len(a[0]);  \n",
    "   \n",
    "#Calculates number of rows and columns present in second matrix  \n",
    "row2 = len(b);  \n",
    "col2 = len(b[0]);  \n",
    "   \n",
    "#Checks if dimensions of both the matrices are equal  \n",
    "if(row1 != row2 or col1 != col2):  \n",
    "    print(\"Matrices are not mirrored\");  \n",
    "   \n",
    "else:  \n",
    "    for i in range(0, row1):  \n",
    "        for j in range(0 , col1):  \n",
    "             #Condition for mirroring\n",
    "            if(a[i][j] != b[i][row1- j -1]):\n",
    "                print (a[i][j] , b[i][col1- j - 1])\n",
    "                flag = False;  \n",
    "                break;  \n",
    "      \n",
    "    if(flag):  \n",
    "        print(\"Matrices are mirrored\");  \n",
    "    else:  \n",
    "        print(\"Matrices are not mirrored\");  \n"
   ]
  },
  {
   "cell_type": "code",
   "execution_count": 195,
   "metadata": {},
   "outputs": [
    {
     "name": "stdout",
     "output_type": "stream",
     "text": [
      "  Student   Marks out of 100\n",
      "0    Vimal               100\n",
      "1    Khaju               -10\n",
      "2    Manas               200\n",
      "3     Guru                35\n"
     ]
    }
   ],
   "source": [
    "import pandas as pd\n",
    "df=pd.read_csv('dslab2.csv')\n",
    "print(df)"
   ]
  },
  {
   "cell_type": "code",
   "execution_count": 196,
   "metadata": {},
   "outputs": [
    {
     "data": {
      "text/html": [
       "<div>\n",
       "<style scoped>\n",
       "    .dataframe tbody tr th:only-of-type {\n",
       "        vertical-align: middle;\n",
       "    }\n",
       "\n",
       "    .dataframe tbody tr th {\n",
       "        vertical-align: top;\n",
       "    }\n",
       "\n",
       "    .dataframe thead th {\n",
       "        text-align: right;\n",
       "    }\n",
       "</style>\n",
       "<table border=\"1\" class=\"dataframe\">\n",
       "  <thead>\n",
       "    <tr style=\"text-align: right;\">\n",
       "      <th></th>\n",
       "      <th>Student</th>\n",
       "      <th>Marks out of 100</th>\n",
       "    </tr>\n",
       "  </thead>\n",
       "  <tbody>\n",
       "    <tr>\n",
       "      <th>0</th>\n",
       "      <td>Vimal</td>\n",
       "      <td>100</td>\n",
       "    </tr>\n",
       "    <tr>\n",
       "      <th>1</th>\n",
       "      <td>Khaju</td>\n",
       "      <td>-10</td>\n",
       "    </tr>\n",
       "    <tr>\n",
       "      <th>2</th>\n",
       "      <td>Manas</td>\n",
       "      <td>200</td>\n",
       "    </tr>\n",
       "    <tr>\n",
       "      <th>3</th>\n",
       "      <td>Guru</td>\n",
       "      <td>35</td>\n",
       "    </tr>\n",
       "  </tbody>\n",
       "</table>\n",
       "</div>"
      ],
      "text/plain": [
       "  Student   Marks out of 100\n",
       "0    Vimal               100\n",
       "1    Khaju               -10\n",
       "2    Manas               200\n",
       "3     Guru                35"
      ]
     },
     "execution_count": 196,
     "metadata": {},
     "output_type": "execute_result"
    }
   ],
   "source": [
    "df.head()"
   ]
  },
  {
   "cell_type": "code",
   "execution_count": 197,
   "metadata": {},
   "outputs": [
    {
     "data": {
      "text/plain": [
       "(4, 2)"
      ]
     },
     "execution_count": 197,
     "metadata": {},
     "output_type": "execute_result"
    }
   ],
   "source": [
    "df.shape\n"
   ]
  },
  {
   "cell_type": "code",
   "execution_count": 198,
   "metadata": {},
   "outputs": [
    {
     "data": {
      "text/plain": [
       "Student             object\n",
       "Marks out of 100     int64\n",
       "dtype: object"
      ]
     },
     "execution_count": 198,
     "metadata": {},
     "output_type": "execute_result"
    }
   ],
   "source": [
    "df.dtypes"
   ]
  },
  {
   "cell_type": "code",
   "execution_count": 199,
   "metadata": {},
   "outputs": [],
   "source": [
    "#JSON similar object \n",
    "mobile_data = {\n",
    "    'Phone' : ['iPhone 11' , 'Samsung 10' , 'One plus 8'],\n",
    "    'Cost' : ['1000', '800', '700'],\n",
    "    'RAM in GB':['4', '6', '6']\n",
    "}"
   ]
  },
  {
   "cell_type": "code",
   "execution_count": 200,
   "metadata": {},
   "outputs": [
    {
     "data": {
      "text/html": [
       "<div>\n",
       "<style scoped>\n",
       "    .dataframe tbody tr th:only-of-type {\n",
       "        vertical-align: middle;\n",
       "    }\n",
       "\n",
       "    .dataframe tbody tr th {\n",
       "        vertical-align: top;\n",
       "    }\n",
       "\n",
       "    .dataframe thead th {\n",
       "        text-align: right;\n",
       "    }\n",
       "</style>\n",
       "<table border=\"1\" class=\"dataframe\">\n",
       "  <thead>\n",
       "    <tr style=\"text-align: right;\">\n",
       "      <th></th>\n",
       "      <th>Phone</th>\n",
       "      <th>Cost</th>\n",
       "      <th>RAM in GB</th>\n",
       "    </tr>\n",
       "  </thead>\n",
       "  <tbody>\n",
       "    <tr>\n",
       "      <th>0</th>\n",
       "      <td>iPhone 11</td>\n",
       "      <td>1000</td>\n",
       "      <td>4</td>\n",
       "    </tr>\n",
       "    <tr>\n",
       "      <th>1</th>\n",
       "      <td>Samsung 10</td>\n",
       "      <td>800</td>\n",
       "      <td>6</td>\n",
       "    </tr>\n",
       "    <tr>\n",
       "      <th>2</th>\n",
       "      <td>One plus 8</td>\n",
       "      <td>700</td>\n",
       "      <td>6</td>\n",
       "    </tr>\n",
       "  </tbody>\n",
       "</table>\n",
       "</div>"
      ],
      "text/plain": [
       "        Phone  Cost RAM in GB\n",
       "0   iPhone 11  1000         4\n",
       "1  Samsung 10   800         6\n",
       "2  One plus 8   700         6"
      ]
     },
     "execution_count": 200,
     "metadata": {},
     "output_type": "execute_result"
    }
   ],
   "source": [
    "Write_DF = pd.DataFrame(mobile_data)\n",
    "Write_DF.head()"
   ]
  },
  {
   "cell_type": "code",
   "execution_count": 201,
   "metadata": {},
   "outputs": [
    {
     "data": {
      "text/html": [
       "<div>\n",
       "<style scoped>\n",
       "    .dataframe tbody tr th:only-of-type {\n",
       "        vertical-align: middle;\n",
       "    }\n",
       "\n",
       "    .dataframe tbody tr th {\n",
       "        vertical-align: top;\n",
       "    }\n",
       "\n",
       "    .dataframe thead th {\n",
       "        text-align: right;\n",
       "    }\n",
       "</style>\n",
       "<table border=\"1\" class=\"dataframe\">\n",
       "  <thead>\n",
       "    <tr style=\"text-align: right;\">\n",
       "      <th></th>\n",
       "      <th>Phone</th>\n",
       "      <th>Cost</th>\n",
       "      <th>RAM in GB</th>\n",
       "    </tr>\n",
       "  </thead>\n",
       "  <tbody>\n",
       "    <tr>\n",
       "      <th>0</th>\n",
       "      <td>iPhone 11</td>\n",
       "      <td>1000</td>\n",
       "      <td>4</td>\n",
       "    </tr>\n",
       "    <tr>\n",
       "      <th>1</th>\n",
       "      <td>Samsung 10</td>\n",
       "      <td>800</td>\n",
       "      <td>6</td>\n",
       "    </tr>\n",
       "    <tr>\n",
       "      <th>2</th>\n",
       "      <td>One plus 8</td>\n",
       "      <td>700</td>\n",
       "      <td>6</td>\n",
       "    </tr>\n",
       "  </tbody>\n",
       "</table>\n",
       "</div>"
      ],
      "text/plain": [
       "        Phone  Cost RAM in GB\n",
       "0   iPhone 11  1000         4\n",
       "1  Samsung 10   800         6\n",
       "2  One plus 8   700         6"
      ]
     },
     "execution_count": 201,
     "metadata": {},
     "output_type": "execute_result"
    }
   ],
   "source": [
    "#### Exporting & reading exported CSV\n",
    "Write_DF.to_csv('writeToCSV.csv')\n",
    "Write_DF.head()"
   ]
  },
  {
   "cell_type": "code",
   "execution_count": null,
   "metadata": {},
   "outputs": [],
   "source": []
  }
 ],
 "metadata": {
  "kernelspec": {
   "display_name": "Python 3",
   "language": "python",
   "name": "python3"
  },
  "language_info": {
   "codemirror_mode": {
    "name": "ipython",
    "version": 3
   },
   "file_extension": ".py",
   "mimetype": "text/x-python",
   "name": "python",
   "nbconvert_exporter": "python",
   "pygments_lexer": "ipython3",
   "version": "3.8.3"
  }
 },
 "nbformat": 4,
 "nbformat_minor": 4
}
